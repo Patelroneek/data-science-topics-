{
  "nbformat": 4,
  "nbformat_minor": 0,
  "metadata": {
    "colab": {
      "provenance": [],
      "authorship_tag": "ABX9TyMjI0Z1uhIfhNV7DEUnAlWa",
      "include_colab_link": true
    },
    "kernelspec": {
      "name": "python3",
      "display_name": "Python 3"
    },
    "language_info": {
      "name": "python"
    }
  },
  "cells": [
    {
      "cell_type": "markdown",
      "metadata": {
        "id": "view-in-github",
        "colab_type": "text"
      },
      "source": [
        "<a href=\"https://colab.research.google.com/github/Patelroneek/data-science-topics-/blob/main/NumpyArrays.ipynb\" target=\"_parent\"><img src=\"https://colab.research.google.com/assets/colab-badge.svg\" alt=\"Open In Colab\"/></a>"
      ]
    },
    {
      "cell_type": "code",
      "execution_count": null,
      "metadata": {
        "id": "yohK0tq--YCq",
        "colab": {
          "base_uri": "https://localhost:8080/"
        },
        "outputId": "4f5af210-c443-4304-9b5b-db113f087f31"
      },
      "outputs": [
        {
          "output_type": "stream",
          "name": "stdout",
          "text": [
            "[1 2 3 4]\n"
          ]
        }
      ],
      "source": [
        "#1d array\n",
        "import numpy as np\n",
        "a= np.array([1,2,3,4])\n",
        "print(a)"
      ]
    },
    {
      "cell_type": "code",
      "source": [
        "#2d array\n",
        "b= np.array([[1, 2], [4, 5]])\n",
        "print(b)"
      ],
      "metadata": {
        "colab": {
          "base_uri": "https://localhost:8080/"
        },
        "id": "7YYDu7dQFSPf",
        "outputId": "0f33a331-0754-43a8-a437-f3920a3c29bb"
      },
      "execution_count": null,
      "outputs": [
        {
          "output_type": "stream",
          "name": "stdout",
          "text": [
            "[[1 2]\n",
            " [4 5]]\n"
          ]
        }
      ]
    },
    {
      "cell_type": "code",
      "source": [
        "#3d array\n",
        "c= np.array([[[1, 2], [3, 4]], [[5, 6], [7, 8]]])\n",
        "print(c)"
      ],
      "metadata": {
        "colab": {
          "base_uri": "https://localhost:8080/"
        },
        "id": "Th7RyXwPFtRC",
        "outputId": "7b6964a1-22a7-47f2-851f-8fde50e37c3b"
      },
      "execution_count": null,
      "outputs": [
        {
          "output_type": "stream",
          "name": "stdout",
          "text": [
            "[[[1 2]\n",
            "  [3 4]]\n",
            "\n",
            " [[5 6]\n",
            "  [7 8]]]\n"
          ]
        }
      ]
    },
    {
      "cell_type": "code",
      "source": [
        "#ones_array\n",
        "ones_array = np.ones((3,4))\n",
        "print(ones_array)"
      ],
      "metadata": {
        "colab": {
          "base_uri": "https://localhost:8080/"
        },
        "id": "mST4MwSSF5x6",
        "outputId": "1c1c547f-04b7-411f-e108-2d74684c8ed5"
      },
      "execution_count": null,
      "outputs": [
        {
          "output_type": "stream",
          "name": "stdout",
          "text": [
            "[[1. 1. 1. 1.]\n",
            " [1. 1. 1. 1.]\n",
            " [1. 1. 1. 1.]]\n"
          ]
        }
      ]
    },
    {
      "cell_type": "code",
      "source": [
        "#zeros_array\n",
        "zeros_array = np.zeros((4,3))\n",
        "print(zeros_array)"
      ],
      "metadata": {
        "colab": {
          "base_uri": "https://localhost:8080/"
        },
        "id": "ewrbrkVuGg0F",
        "outputId": "d8443cab-0725-4a04-97dd-eb6edc524953"
      },
      "execution_count": null,
      "outputs": [
        {
          "output_type": "stream",
          "name": "stdout",
          "text": [
            "[[0. 0. 0.]\n",
            " [0. 0. 0.]\n",
            " [0. 0. 0.]\n",
            " [0. 0. 0.]]\n"
          ]
        }
      ]
    },
    {
      "cell_type": "code",
      "source": [
        "#linespace\n",
        "linspace_array = np.linspace(0, 100, 5)\n",
        "print(linspace_array)"
      ],
      "metadata": {
        "colab": {
          "base_uri": "https://localhost:8080/"
        },
        "id": "5mrnwh1gG15T",
        "outputId": "db930ce3-e319-4d3f-ce66-ef8e2ee644fb"
      },
      "execution_count": null,
      "outputs": [
        {
          "output_type": "stream",
          "name": "stdout",
          "text": [
            "[  0.  25.  50.  75. 100.]\n"
          ]
        }
      ]
    },
    {
      "cell_type": "code",
      "source": [
        "#randn\n",
        "rand_array = np.random.rand(3, 3)\n",
        "print(rand_array)"
      ],
      "metadata": {
        "colab": {
          "base_uri": "https://localhost:8080/"
        },
        "id": "rOHg9hraHHeW",
        "outputId": "d7231304-5d8a-4739-958f-303ceb26c5c1"
      },
      "execution_count": null,
      "outputs": [
        {
          "output_type": "stream",
          "name": "stdout",
          "text": [
            "[[0.70163555 0.82302213 0.57207219]\n",
            " [0.6655371  0.68117479 0.70566166]\n",
            " [0.70975825 0.31682451 0.91408714]]\n"
          ]
        }
      ]
    },
    {
      "cell_type": "code",
      "source": [
        "#randint\n",
        "randint_array = np.random.randint(1, 100, (3, 3))\n",
        "print(randint_array)"
      ],
      "metadata": {
        "colab": {
          "base_uri": "https://localhost:8080/"
        },
        "id": "zoIyVtqkH04B",
        "outputId": "a708915e-ad54-4d2f-cc75-701f45c018ee"
      },
      "execution_count": null,
      "outputs": [
        {
          "output_type": "stream",
          "name": "stdout",
          "text": [
            "[[48 31 70]\n",
            " [35 46 82]\n",
            " [45 49 49]]\n"
          ]
        }
      ]
    },
    {
      "cell_type": "code",
      "source": [
        "#identity matrix\n",
        "i=np.eye(4,4)\n",
        "print(i)"
      ],
      "metadata": {
        "colab": {
          "base_uri": "https://localhost:8080/"
        },
        "id": "qf8wrclsLY7s",
        "outputId": "e836b240-6bb6-499f-dc1b-679a2d577121"
      },
      "execution_count": null,
      "outputs": [
        {
          "output_type": "stream",
          "name": "stdout",
          "text": [
            "[[1. 0. 0. 0.]\n",
            " [0. 1. 0. 0.]\n",
            " [0. 0. 1. 0.]\n",
            " [0. 0. 0. 1.]]\n"
          ]
        }
      ]
    },
    {
      "cell_type": "code",
      "source": [
        "#randn\n",
        "randn_array = np.random.randn(3, 3)\n",
        "print(randint_array)"
      ],
      "metadata": {
        "colab": {
          "base_uri": "https://localhost:8080/"
        },
        "id": "1v1BdXcvMjZV",
        "outputId": "e398eeb6-2a23-4e96-9b16-73076b5d16d5"
      },
      "execution_count": null,
      "outputs": [
        {
          "output_type": "stream",
          "name": "stdout",
          "text": [
            "[[48 31 70]\n",
            " [35 46 82]\n",
            " [45 49 49]]\n"
          ]
        }
      ]
    },
    {
      "cell_type": "code",
      "source": [
        "#reshape\n",
        "import numpy as np\n",
        "arr = np.array([1, 2, 3, 4, 5, 6, 7, 8])\n",
        "newarr = arr.reshape(2, 4)\n",
        "print(newarr)"
      ],
      "metadata": {
        "colab": {
          "base_uri": "https://localhost:8080/"
        },
        "id": "hAdTekR7I8e5",
        "outputId": "f71e7e6e-9ecc-40e1-b06a-5751a33e2ebe"
      },
      "execution_count": null,
      "outputs": [
        {
          "output_type": "stream",
          "name": "stdout",
          "text": [
            "[[1 2 3 4]\n",
            " [5 6 7 8]]\n"
          ]
        }
      ]
    },
    {
      "cell_type": "code",
      "source": [
        "# Maximum and minimum\n",
        "import numpy as np\n",
        "\n",
        "arr = np.array([1, 5, 2, 8, 3, 9, 4, 7, 6])\n",
        "\n",
        "max_value = np.max(arr)\n",
        "print(\"Maximum value:\", max_value)\n",
        "\n",
        "min_value = np.min(arr)\n",
        "print(\"Minimum value:\", min_value)"
      ],
      "metadata": {
        "colab": {
          "base_uri": "https://localhost:8080/"
        },
        "id": "SRl3FLu5KiVL",
        "outputId": "9a8ed14e-5e3d-434f-984c-6a5efe68067a"
      },
      "execution_count": null,
      "outputs": [
        {
          "output_type": "stream",
          "name": "stdout",
          "text": [
            "Maximum value: 9\n",
            "Minimum value: 1\n"
          ]
        }
      ]
    },
    {
      "cell_type": "code",
      "source": [
        "# upper and lower triangular matrix\n",
        "matrix = np.array([[1, 2, 3],\n",
        "                  [4, 5, 6],\n",
        "                  [7, 8, 9]])"
      ],
      "metadata": {
        "id": "oP5HataTLTfi"
      },
      "execution_count": null,
      "outputs": []
    },
    {
      "cell_type": "code",
      "source": [
        "upper_triangular = np.triu(matrix)"
      ],
      "metadata": {
        "id": "VnPK0dvdMd9p"
      },
      "execution_count": null,
      "outputs": []
    },
    {
      "cell_type": "code",
      "source": [
        "lower_triangular = np.tril(matrix)"
      ],
      "metadata": {
        "id": "BrVZZbKSMiF9"
      },
      "execution_count": null,
      "outputs": []
    },
    {
      "cell_type": "code",
      "source": [
        "print(upper_triangular)"
      ],
      "metadata": {
        "colab": {
          "base_uri": "https://localhost:8080/"
        },
        "id": "mjOWKMDoMj_z",
        "outputId": "a83f0d97-fe35-4169-f3b1-fd42794ef78b"
      },
      "execution_count": null,
      "outputs": [
        {
          "output_type": "stream",
          "name": "stdout",
          "text": [
            "[[1 2 3]\n",
            " [0 5 6]\n",
            " [0 0 9]]\n"
          ]
        }
      ]
    },
    {
      "cell_type": "code",
      "source": [
        "print(lower_triangular)"
      ],
      "metadata": {
        "colab": {
          "base_uri": "https://localhost:8080/"
        },
        "id": "J3hrwlz9NHXa",
        "outputId": "08825662-1f81-4d50-b5d0-0423d669cf5d"
      },
      "execution_count": null,
      "outputs": [
        {
          "output_type": "stream",
          "name": "stdout",
          "text": [
            "[[1 0 0]\n",
            " [4 5 0]\n",
            " [7 8 9]]\n"
          ]
        }
      ]
    },
    {
      "cell_type": "code",
      "source": [
        "sum_of_triangles = upper_triangular + lower_triangular"
      ],
      "metadata": {
        "id": "Gefx3J89Ng9a"
      },
      "execution_count": null,
      "outputs": []
    },
    {
      "cell_type": "code",
      "source": [
        "print(sum_of_triangles)"
      ],
      "metadata": {
        "colab": {
          "base_uri": "https://localhost:8080/"
        },
        "id": "UDukzHdENuef",
        "outputId": "c751aee8-5d47-4c81-a346-a3234a1c2506"
      },
      "execution_count": null,
      "outputs": [
        {
          "output_type": "stream",
          "name": "stdout",
          "text": [
            "[[ 2  2  3]\n",
            " [ 4 10  6]\n",
            " [ 7  8 18]]\n"
          ]
        }
      ]
    },
    {
      "cell_type": "code",
      "source": [
        "# bmate\n",
        "A = np.zeros((3, 3))\n",
        "B = np.ones((3, 3))\n",
        "\n",
        "combined_matrix = np.bmat([[A, B]])\n",
        "\n",
        "print(combined_matrix)"
      ],
      "metadata": {
        "colab": {
          "base_uri": "https://localhost:8080/"
        },
        "id": "k-RjsNYpN3OG",
        "outputId": "c750fe88-ee46-4f38-c252-6d80946ca394"
      },
      "execution_count": null,
      "outputs": [
        {
          "output_type": "stream",
          "name": "stdout",
          "text": [
            "[[0. 0. 0. 1. 1. 1.]\n",
            " [0. 0. 0. 1. 1. 1.]\n",
            " [0. 0. 0. 1. 1. 1.]]\n"
          ]
        }
      ]
    },
    {
      "cell_type": "code",
      "source": [
        "# diagonal flat\n",
        "matrix = np.array([[1, 2, 3],\n",
        "                  [4, 5, 6],\n",
        "                  [7, 8, 9]])\n",
        "\n",
        "diagonal = np.diag(matrix).flatten()\n",
        "\n",
        "print(diagonal)"
      ],
      "metadata": {
        "colab": {
          "base_uri": "https://localhost:8080/"
        },
        "id": "Yo0qEd4ePGPH",
        "outputId": "1c1e0a38-6824-4dcb-facd-1ed3714737fe"
      },
      "execution_count": null,
      "outputs": [
        {
          "output_type": "stream",
          "name": "stdout",
          "text": [
            "[1 5 9]\n"
          ]
        }
      ]
    },
    {
      "cell_type": "code",
      "source": [
        "#indexing\n",
        "my_list = [1, 2, 3, 4, 5]\n",
        "\n",
        "first_element = my_list[0]\n",
        "print(\"First element:\", first_element)\n",
        "\n",
        "third_element = my_list[2]\n",
        "print(\"Third element:\", third_element)\n",
        "\n",
        "last_element = my_list[-1]\n",
        "print(\"Last element:\", last_element)"
      ],
      "metadata": {
        "colab": {
          "base_uri": "https://localhost:8080/"
        },
        "id": "gpsNApJ-QmCF",
        "outputId": "7287b84f-8d1a-41a3-d14a-297254d39f74"
      },
      "execution_count": null,
      "outputs": [
        {
          "output_type": "stream",
          "name": "stdout",
          "text": [
            "First element: 1\n",
            "Third element: 3\n",
            "Last element: 5\n"
          ]
        }
      ]
    },
    {
      "cell_type": "code",
      "source": [
        "#slicing\n",
        "\n",
        "sub_list = my_list[1:3]\n",
        "print(\"Sub-list (1:3):\", sub_list)\n",
        "\n",
        "sub_list = my_list[:2]\n",
        "print(\"Sub-list (:2):\", sub_list)\n",
        "\n",
        "sub_list = my_list[2:]\n",
        "print(\"Sub-list (2:):\", sub_list)\n",
        "\n",
        "sub_list = my_list[::2]\n",
        "print(\"Sub-list (::2):\", sub_list)"
      ],
      "metadata": {
        "colab": {
          "base_uri": "https://localhost:8080/"
        },
        "id": "oyoabMJ6RdgX",
        "outputId": "c02d0b7a-ef50-42b0-d1ad-9f3bebeb3cd4"
      },
      "execution_count": null,
      "outputs": [
        {
          "output_type": "stream",
          "name": "stdout",
          "text": [
            "Sub-list (1:3): [2, 3]\n",
            "Sub-list (:2): [1, 2]\n",
            "Sub-list (2:): [3, 4, 5]\n",
            "Sub-list (::2): [1, 3, 5]\n"
          ]
        }
      ]
    },
    {
      "cell_type": "code",
      "source": [
        "#copy\n",
        "# Original array\n",
        "arr3 = np.array([1, 2, 3, 4, 5])\n",
        "\n",
        "# Create a copy\n",
        "arr4 = arr3.copy()\n",
        "\n",
        "# Print both arrays\n",
        "print(\"Original array:\", arr3)\n",
        "print(\"Copied array:\", arr4)"
      ],
      "metadata": {
        "colab": {
          "base_uri": "https://localhost:8080/"
        },
        "id": "dCPoil03Sghv",
        "outputId": "01c85242-c29e-41bc-fe7e-ab48e3d79c59"
      },
      "execution_count": null,
      "outputs": [
        {
          "output_type": "stream",
          "name": "stdout",
          "text": [
            "Original array: [1 2 3 4 5]\n",
            "Copied array: [1 2 3 4 5]\n"
          ]
        }
      ]
    },
    {
      "cell_type": "code",
      "source": [
        "#empty_like\n",
        "\n",
        "# Create an example array\n",
        "original_array = np.array([[1, 2], [4, 5]])\n",
        "\n",
        "# Create an empty array with the same shape and type as the original array\n",
        "empty_array = np.empty_like(original_array)\n",
        "\n",
        "# Print the empty array\n",
        "print(empty_array)"
      ],
      "metadata": {
        "colab": {
          "base_uri": "https://localhost:8080/"
        },
        "id": "VzXBXpObTSCL",
        "outputId": "dc13498e-df2a-4008-904b-1003c8ecbecf"
      },
      "execution_count": null,
      "outputs": [
        {
          "output_type": "stream",
          "name": "stdout",
          "text": [
            "[[4607182418800017408 4607182418800017408]\n",
            " [4607182418800017408 4607182418800017408]]\n"
          ]
        }
      ]
    }
  ]
}